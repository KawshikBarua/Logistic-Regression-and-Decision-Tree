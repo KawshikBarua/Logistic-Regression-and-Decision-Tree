{
  "nbformat": 4,
  "nbformat_minor": 0,
  "metadata": {
    "colab": {
      "name": "Logistic regression and Decision Tree.ipynb",
      "provenance": [],
      "collapsed_sections": [],
      "mount_file_id": "18gqSzaxGvBURranTOy00Men7y21MFZgk",
      "authorship_tag": "ABX9TyMp41ylcwOmb92O0duzEXJf",
      "include_colab_link": true
    },
    "kernelspec": {
      "name": "python3",
      "display_name": "Python 3"
    },
    "language_info": {
      "name": "python"
    }
  },
  "cells": [
    {
      "cell_type": "markdown",
      "metadata": {
        "id": "view-in-github",
        "colab_type": "text"
      },
      "source": [
        "<a href=\"https://colab.research.google.com/github/KawshikBarua/Logistic-Regression-and-Decision-Tree/blob/main/Logistic_regression_and_Decision_Tree.ipynb\" target=\"_parent\"><img src=\"https://colab.research.google.com/assets/colab-badge.svg\" alt=\"Open In Colab\"/></a>"
      ]
    },
    {
      "cell_type": "code",
      "metadata": {
        "id": "tT5u-hDPhvP4"
      },
      "source": [
        "import numpy as np\n",
        "import sympy as sp\n",
        "from sklearn.model_selection import train_test_split\n",
        "from sklearn.linear_model import LogisticRegression\n",
        "from sklearn.tree import DecisionTreeClassifier\n",
        "from sklearn.impute import SimpleImputer \n",
        "from sklearn.preprocessing  import LabelEncoder\n",
        "import matplotlib.pyplot as plt\n",
        "import pandas as pd\n",
        "from sklearn.metrics import accuracy_score"
      ],
      "execution_count": null,
      "outputs": []
    },
    {
      "cell_type": "code",
      "metadata": {
        "colab": {
          "base_uri": "https://localhost:8080/",
          "height": 338
        },
        "id": "yfctlHNwjFUN",
        "outputId": "bcd8535d-9f5e-47a3-b126-0c25afb6830a"
      },
      "source": [
        "mushroom = pd.read_csv('/content/drive/MyDrive/mushroom edibility classification dataset.csv')\n",
        "mushroom.head()"
      ],
      "execution_count": null,
      "outputs": [
        {
          "output_type": "execute_result",
          "data": {
            "text/html": [
              "<div>\n",
              "<style scoped>\n",
              "    .dataframe tbody tr th:only-of-type {\n",
              "        vertical-align: middle;\n",
              "    }\n",
              "\n",
              "    .dataframe tbody tr th {\n",
              "        vertical-align: top;\n",
              "    }\n",
              "\n",
              "    .dataframe thead th {\n",
              "        text-align: right;\n",
              "    }\n",
              "</style>\n",
              "<table border=\"1\" class=\"dataframe\">\n",
              "  <thead>\n",
              "    <tr style=\"text-align: right;\">\n",
              "      <th></th>\n",
              "      <th>Unnamed: 0</th>\n",
              "      <th>class</th>\n",
              "      <th>cap-shape</th>\n",
              "      <th>cap-surface</th>\n",
              "      <th>cap-color</th>\n",
              "      <th>bruises</th>\n",
              "      <th>odor</th>\n",
              "      <th>stalk-shape</th>\n",
              "      <th>stalk-root</th>\n",
              "      <th>stalk-surface-above-ring</th>\n",
              "      <th>stalk-surface-below-ring</th>\n",
              "      <th>stalk-color-above-ring</th>\n",
              "      <th>stalk-color-below-ring</th>\n",
              "      <th>veil-type</th>\n",
              "      <th>veil-color</th>\n",
              "      <th>ring-number</th>\n",
              "      <th>ring-type</th>\n",
              "      <th>spore-print-color</th>\n",
              "      <th>population</th>\n",
              "      <th>habitat</th>\n",
              "    </tr>\n",
              "  </thead>\n",
              "  <tbody>\n",
              "    <tr>\n",
              "      <th>0</th>\n",
              "      <td>0</td>\n",
              "      <td>poisonous</td>\n",
              "      <td>5.0</td>\n",
              "      <td>2</td>\n",
              "      <td>4.0</td>\n",
              "      <td>bruises is there</td>\n",
              "      <td>6</td>\n",
              "      <td>0</td>\n",
              "      <td>3</td>\n",
              "      <td>2</td>\n",
              "      <td>2</td>\n",
              "      <td>7</td>\n",
              "      <td>7</td>\n",
              "      <td>0</td>\n",
              "      <td>2</td>\n",
              "      <td>1</td>\n",
              "      <td>4</td>\n",
              "      <td>2</td>\n",
              "      <td>3</td>\n",
              "      <td>5</td>\n",
              "    </tr>\n",
              "    <tr>\n",
              "      <th>1</th>\n",
              "      <td>1</td>\n",
              "      <td>edible</td>\n",
              "      <td>5.0</td>\n",
              "      <td>2</td>\n",
              "      <td>9.0</td>\n",
              "      <td>bruises is there</td>\n",
              "      <td>0</td>\n",
              "      <td>0</td>\n",
              "      <td>2</td>\n",
              "      <td>2</td>\n",
              "      <td>2</td>\n",
              "      <td>7</td>\n",
              "      <td>7</td>\n",
              "      <td>0</td>\n",
              "      <td>2</td>\n",
              "      <td>1</td>\n",
              "      <td>4</td>\n",
              "      <td>3</td>\n",
              "      <td>2</td>\n",
              "      <td>1</td>\n",
              "    </tr>\n",
              "    <tr>\n",
              "      <th>2</th>\n",
              "      <td>2</td>\n",
              "      <td>edible</td>\n",
              "      <td>0.0</td>\n",
              "      <td>2</td>\n",
              "      <td>8.0</td>\n",
              "      <td>bruises is there</td>\n",
              "      <td>3</td>\n",
              "      <td>0</td>\n",
              "      <td>2</td>\n",
              "      <td>2</td>\n",
              "      <td>2</td>\n",
              "      <td>7</td>\n",
              "      <td>7</td>\n",
              "      <td>0</td>\n",
              "      <td>2</td>\n",
              "      <td>1</td>\n",
              "      <td>4</td>\n",
              "      <td>3</td>\n",
              "      <td>2</td>\n",
              "      <td>3</td>\n",
              "    </tr>\n",
              "    <tr>\n",
              "      <th>3</th>\n",
              "      <td>3</td>\n",
              "      <td>poisonous</td>\n",
              "      <td>5.0</td>\n",
              "      <td>3</td>\n",
              "      <td>8.0</td>\n",
              "      <td>bruises is there</td>\n",
              "      <td>6</td>\n",
              "      <td>0</td>\n",
              "      <td>3</td>\n",
              "      <td>2</td>\n",
              "      <td>2</td>\n",
              "      <td>7</td>\n",
              "      <td>7</td>\n",
              "      <td>0</td>\n",
              "      <td>2</td>\n",
              "      <td>1</td>\n",
              "      <td>4</td>\n",
              "      <td>2</td>\n",
              "      <td>3</td>\n",
              "      <td>5</td>\n",
              "    </tr>\n",
              "    <tr>\n",
              "      <th>4</th>\n",
              "      <td>4</td>\n",
              "      <td>edible</td>\n",
              "      <td>5.0</td>\n",
              "      <td>2</td>\n",
              "      <td>3.0</td>\n",
              "      <td>no bruises</td>\n",
              "      <td>5</td>\n",
              "      <td>1</td>\n",
              "      <td>3</td>\n",
              "      <td>2</td>\n",
              "      <td>2</td>\n",
              "      <td>7</td>\n",
              "      <td>7</td>\n",
              "      <td>0</td>\n",
              "      <td>2</td>\n",
              "      <td>1</td>\n",
              "      <td>0</td>\n",
              "      <td>3</td>\n",
              "      <td>0</td>\n",
              "      <td>1</td>\n",
              "    </tr>\n",
              "  </tbody>\n",
              "</table>\n",
              "</div>"
            ],
            "text/plain": [
              "   Unnamed: 0      class  cap-shape  ...  spore-print-color  population habitat\n",
              "0           0  poisonous        5.0  ...                  2           3       5\n",
              "1           1     edible        5.0  ...                  3           2       1\n",
              "2           2     edible        0.0  ...                  3           2       3\n",
              "3           3  poisonous        5.0  ...                  2           3       5\n",
              "4           4     edible        5.0  ...                  3           0       1\n",
              "\n",
              "[5 rows x 20 columns]"
            ]
          },
          "metadata": {
            "tags": []
          },
          "execution_count": 3
        }
      ]
    },
    {
      "cell_type": "code",
      "metadata": {
        "colab": {
          "base_uri": "https://localhost:8080/"
        },
        "id": "yMkXGNB5j63T",
        "outputId": "a5e4d8bb-964a-446f-b13f-fbbe22cd914c"
      },
      "source": [
        "mushroom.drop(['Unnamed: 0'],axis=1,inplace=True)\n",
        "mushroom.isnull().sum()"
      ],
      "execution_count": null,
      "outputs": [
        {
          "output_type": "execute_result",
          "data": {
            "text/plain": [
              "class                       0\n",
              "cap-shape                   8\n",
              "cap-surface                 0\n",
              "cap-color                   8\n",
              "bruises                     0\n",
              "odor                        0\n",
              "stalk-shape                 0\n",
              "stalk-root                  0\n",
              "stalk-surface-above-ring    0\n",
              "stalk-surface-below-ring    0\n",
              "stalk-color-above-ring      0\n",
              "stalk-color-below-ring      0\n",
              "veil-type                   0\n",
              "veil-color                  0\n",
              "ring-number                 0\n",
              "ring-type                   0\n",
              "spore-print-color           0\n",
              "population                  0\n",
              "habitat                     0\n",
              "dtype: int64"
            ]
          },
          "metadata": {
            "tags": []
          },
          "execution_count": 4
        }
      ]
    },
    {
      "cell_type": "code",
      "metadata": {
        "id": "mt0Sg8SM_fdy"
      },
      "source": [
        "#Removing Null Values\n",
        "impute = SimpleImputer(np.nan,'mean')\n",
        "impute.fit(mushroom[['cap-color']])\n",
        "impute.fit(mushroom[['cap-shape']])\n",
        "mushroom['cap-shape']=impute.fit_transform(mushroom[['cap-shape']])\n",
        "mushroom['cap-color']=impute.fit_transform(mushroom[['cap-color']])"
      ],
      "execution_count": null,
      "outputs": []
    },
    {
      "cell_type": "code",
      "metadata": {
        "colab": {
          "base_uri": "https://localhost:8080/",
          "height": 254
        },
        "id": "7pH9VrT0BonP",
        "outputId": "5c22353c-7790-4649-8b08-8ab362be735e"
      },
      "source": [
        "#Performing necessary encodings\n",
        "encoder=LabelEncoder()\n",
        "mushroom['bruises-enc']=encoder.fit_transform(mushroom['bruises'])\n",
        "mushroom.drop(['bruises'],axis=1,inplace=True)\n",
        "mushroom.head()"
      ],
      "execution_count": null,
      "outputs": [
        {
          "output_type": "execute_result",
          "data": {
            "text/html": [
              "<div>\n",
              "<style scoped>\n",
              "    .dataframe tbody tr th:only-of-type {\n",
              "        vertical-align: middle;\n",
              "    }\n",
              "\n",
              "    .dataframe tbody tr th {\n",
              "        vertical-align: top;\n",
              "    }\n",
              "\n",
              "    .dataframe thead th {\n",
              "        text-align: right;\n",
              "    }\n",
              "</style>\n",
              "<table border=\"1\" class=\"dataframe\">\n",
              "  <thead>\n",
              "    <tr style=\"text-align: right;\">\n",
              "      <th></th>\n",
              "      <th>class</th>\n",
              "      <th>cap-shape</th>\n",
              "      <th>cap-surface</th>\n",
              "      <th>cap-color</th>\n",
              "      <th>odor</th>\n",
              "      <th>stalk-shape</th>\n",
              "      <th>stalk-root</th>\n",
              "      <th>stalk-surface-above-ring</th>\n",
              "      <th>stalk-surface-below-ring</th>\n",
              "      <th>stalk-color-above-ring</th>\n",
              "      <th>stalk-color-below-ring</th>\n",
              "      <th>veil-type</th>\n",
              "      <th>veil-color</th>\n",
              "      <th>ring-number</th>\n",
              "      <th>ring-type</th>\n",
              "      <th>spore-print-color</th>\n",
              "      <th>population</th>\n",
              "      <th>habitat</th>\n",
              "      <th>bruises-enc</th>\n",
              "    </tr>\n",
              "  </thead>\n",
              "  <tbody>\n",
              "    <tr>\n",
              "      <th>0</th>\n",
              "      <td>poisonous</td>\n",
              "      <td>5.0</td>\n",
              "      <td>2</td>\n",
              "      <td>4.0</td>\n",
              "      <td>6</td>\n",
              "      <td>0</td>\n",
              "      <td>3</td>\n",
              "      <td>2</td>\n",
              "      <td>2</td>\n",
              "      <td>7</td>\n",
              "      <td>7</td>\n",
              "      <td>0</td>\n",
              "      <td>2</td>\n",
              "      <td>1</td>\n",
              "      <td>4</td>\n",
              "      <td>2</td>\n",
              "      <td>3</td>\n",
              "      <td>5</td>\n",
              "      <td>0</td>\n",
              "    </tr>\n",
              "    <tr>\n",
              "      <th>1</th>\n",
              "      <td>edible</td>\n",
              "      <td>5.0</td>\n",
              "      <td>2</td>\n",
              "      <td>9.0</td>\n",
              "      <td>0</td>\n",
              "      <td>0</td>\n",
              "      <td>2</td>\n",
              "      <td>2</td>\n",
              "      <td>2</td>\n",
              "      <td>7</td>\n",
              "      <td>7</td>\n",
              "      <td>0</td>\n",
              "      <td>2</td>\n",
              "      <td>1</td>\n",
              "      <td>4</td>\n",
              "      <td>3</td>\n",
              "      <td>2</td>\n",
              "      <td>1</td>\n",
              "      <td>0</td>\n",
              "    </tr>\n",
              "    <tr>\n",
              "      <th>2</th>\n",
              "      <td>edible</td>\n",
              "      <td>0.0</td>\n",
              "      <td>2</td>\n",
              "      <td>8.0</td>\n",
              "      <td>3</td>\n",
              "      <td>0</td>\n",
              "      <td>2</td>\n",
              "      <td>2</td>\n",
              "      <td>2</td>\n",
              "      <td>7</td>\n",
              "      <td>7</td>\n",
              "      <td>0</td>\n",
              "      <td>2</td>\n",
              "      <td>1</td>\n",
              "      <td>4</td>\n",
              "      <td>3</td>\n",
              "      <td>2</td>\n",
              "      <td>3</td>\n",
              "      <td>0</td>\n",
              "    </tr>\n",
              "    <tr>\n",
              "      <th>3</th>\n",
              "      <td>poisonous</td>\n",
              "      <td>5.0</td>\n",
              "      <td>3</td>\n",
              "      <td>8.0</td>\n",
              "      <td>6</td>\n",
              "      <td>0</td>\n",
              "      <td>3</td>\n",
              "      <td>2</td>\n",
              "      <td>2</td>\n",
              "      <td>7</td>\n",
              "      <td>7</td>\n",
              "      <td>0</td>\n",
              "      <td>2</td>\n",
              "      <td>1</td>\n",
              "      <td>4</td>\n",
              "      <td>2</td>\n",
              "      <td>3</td>\n",
              "      <td>5</td>\n",
              "      <td>0</td>\n",
              "    </tr>\n",
              "    <tr>\n",
              "      <th>4</th>\n",
              "      <td>edible</td>\n",
              "      <td>5.0</td>\n",
              "      <td>2</td>\n",
              "      <td>3.0</td>\n",
              "      <td>5</td>\n",
              "      <td>1</td>\n",
              "      <td>3</td>\n",
              "      <td>2</td>\n",
              "      <td>2</td>\n",
              "      <td>7</td>\n",
              "      <td>7</td>\n",
              "      <td>0</td>\n",
              "      <td>2</td>\n",
              "      <td>1</td>\n",
              "      <td>0</td>\n",
              "      <td>3</td>\n",
              "      <td>0</td>\n",
              "      <td>1</td>\n",
              "      <td>1</td>\n",
              "    </tr>\n",
              "  </tbody>\n",
              "</table>\n",
              "</div>"
            ],
            "text/plain": [
              "       class  cap-shape  cap-surface  ...  population  habitat  bruises-enc\n",
              "0  poisonous        5.0            2  ...           3        5            0\n",
              "1     edible        5.0            2  ...           2        1            0\n",
              "2     edible        0.0            2  ...           2        3            0\n",
              "3  poisonous        5.0            3  ...           3        5            0\n",
              "4     edible        5.0            2  ...           0        1            1\n",
              "\n",
              "[5 rows x 19 columns]"
            ]
          },
          "metadata": {
            "tags": []
          },
          "execution_count": 6
        }
      ]
    },
    {
      "cell_type": "code",
      "metadata": {
        "id": "FT8WIl3kC0u4"
      },
      "source": [
        "#Dropping the correlated columns by observing the heatmap done in the previous lab\n",
        "mushroom.drop(['ring-type'],axis=1,inplace=True)\n",
        "mushroom.drop(['stalk-shape'],axis=1,inplace=True)\n",
        "mushroom.drop(['stalk-root'],axis=1,inplace=True)\n",
        "mushroom.drop(['cap-color'],axis=1,inplace=True)\n",
        "mushroom.drop(['population'],axis=1,inplace=True)"
      ],
      "execution_count": null,
      "outputs": []
    },
    {
      "cell_type": "code",
      "metadata": {
        "colab": {
          "base_uri": "https://localhost:8080/"
        },
        "id": "xhnSwQQPDAnT",
        "outputId": "61536122-52ad-4d4e-dbdd-d84ff0d7cc8b"
      },
      "source": [
        "#Performing Logistic Regression\n",
        "logisticRegression= LogisticRegression()\n",
        "x = mushroom.iloc[:,1:]\n",
        "y = mushroom.iloc[:,0]\n",
        "x_train,x_test,y_train,y_test=train_test_split(x,y,test_size=0.2,random_state=42)\n",
        "logisticRegression.fit(x_train,y_train)\n",
        "prediction_logistic=logisticRegression.predict(x_test)\n",
        "accuracy_logistic = accuracy_score(y_test,prediction_logistic)"
      ],
      "execution_count": null,
      "outputs": [
        {
          "output_type": "stream",
          "text": [
            "/usr/local/lib/python3.7/dist-packages/sklearn/linear_model/_logistic.py:940: ConvergenceWarning: lbfgs failed to converge (status=1):\n",
            "STOP: TOTAL NO. of ITERATIONS REACHED LIMIT.\n",
            "\n",
            "Increase the number of iterations (max_iter) or scale the data as shown in:\n",
            "    https://scikit-learn.org/stable/modules/preprocessing.html\n",
            "Please also refer to the documentation for alternative solver options:\n",
            "    https://scikit-learn.org/stable/modules/linear_model.html#logistic-regression\n",
            "  extra_warning_msg=_LOGISTIC_SOLVER_CONVERGENCE_MSG)\n"
          ],
          "name": "stderr"
        }
      ]
    },
    {
      "cell_type": "code",
      "metadata": {
        "id": "M8ZBitXyMpyP"
      },
      "source": [
        "#Performing Decision Tree\n",
        "decisionTree=DecisionTreeClassifier(\"entropy\",random_state=42)\n",
        "decisionTree.fit(x_train,y_train)\n",
        "prediction_dt=decisionTree.predict(x_test)\n",
        "accuracy_dt=accuracy_score(y_test,prediction_dt)"
      ],
      "execution_count": null,
      "outputs": []
    },
    {
      "cell_type": "code",
      "metadata": {
        "colab": {
          "base_uri": "https://localhost:8080/"
        },
        "id": "mwVBVBFaQUyu",
        "outputId": "e4ec8c43-b179-4bcc-851f-335a5f835fc1"
      },
      "source": [
        "print(\"Accuracy using Logistic Regression: \"+str(accuracy_logistic))\n",
        "print(\"Accuracy using Decision Tree: \"+str(accuracy_dt))"
      ],
      "execution_count": null,
      "outputs": [
        {
          "output_type": "stream",
          "text": [
            "Accuracy using Logistic Regression: 0.9376\n",
            "Accuracy using Decision Tree: 1.0\n"
          ],
          "name": "stdout"
        }
      ]
    },
    {
      "cell_type": "code",
      "metadata": {
        "colab": {
          "base_uri": "https://localhost:8080/",
          "height": 282
        },
        "id": "D5P062swQ_Sn",
        "outputId": "851ef438-adf7-4b23-eef6-3d982d18f3b5"
      },
      "source": [
        "accuracy_name=[\"Accuracy_LogisticRegression\",\"Accuracy_DecisionTree\"]\n",
        "accuracy=[accuracy_logistic,accuracy_dt]\n",
        "plt.title(\"Accuracy Check Between LogisticRegression and DecisionTree\")\n",
        "plt.ylabel(\"Accuracy\")\n",
        "plt.bar(accuracy_name[0],accuracy[0],label=\"LogisticRegression\")\n",
        "plt.bar(accuracy_name[1],accuracy[1],label=\"DecisionTree\")\n",
        "plt.legend(bbox_to_anchor=(1,1))\n",
        "plt.show()"
      ],
      "execution_count": null,
      "outputs": [
        {
          "output_type": "display_data",
          "data": {
            "image/png": "[encoded data removed]",
            "text/plain": [
              "<Figure size 432x288 with 1 Axes>"
            ]
          },
          "metadata": {
            "tags": [],
            "needs_background": "light"
          }
        }
      ]
    },
    {
      "cell_type": "code",
      "metadata": {
        "colab": {
          "base_uri": "https://localhost:8080/"
        },
        "id": "kLLqumJ1NZGD",
        "outputId": "8505b2ac-61ad-4974-9d52-c672762e7323"
      },
      "source": [
        "print(prediction_dt)"
      ],
      "execution_count": null,
      "outputs": [
        {
          "output_type": "stream",
          "text": [
            "['edible' 'edible' 'edible' 'edible' 'edible' 'edible' 'edible' 'edible'\n",
            " 'edible' 'edible' 'edible' 'edible' 'edible' 'edible' 'edible'\n",
            " 'poisonous' 'edible' 'edible' 'edible' 'edible' 'edible' 'edible'\n",
            " 'edible' 'poisonous' 'edible' 'edible' 'edible' 'edible' 'edible'\n",
            " 'edible' 'edible' 'edible' 'edible' 'edible' 'edible' 'edible'\n",
            " 'poisonous' 'edible' 'edible' 'edible' 'edible' 'edible' 'edible'\n",
            " 'edible' 'edible' 'poisonous' 'edible' 'poisonous' 'edible' 'poisonous'\n",
            " 'edible' 'edible' 'edible' 'edible' 'edible' 'edible' 'edible' 'edible'\n",
            " 'edible' 'edible' 'edible' 'edible' 'edible' 'edible' 'edible' 'edible'\n",
            " 'edible' 'edible' 'edible' 'edible' 'edible' 'edible' 'edible' 'edible'\n",
            " 'edible' 'edible' 'edible' 'edible' 'edible' 'edible' 'edible' 'edible'\n",
            " 'edible' 'edible' 'edible' 'edible' 'edible' 'poisonous' 'edible'\n",
            " 'edible' 'edible' 'edible' 'edible' 'edible' 'edible' 'edible' 'edible'\n",
            " 'edible' 'edible' 'poisonous' 'edible' 'edible' 'edible' 'edible'\n",
            " 'edible' 'edible' 'edible' 'edible' 'edible' 'edible' 'poisonous'\n",
            " 'edible' 'edible' 'edible' 'edible' 'edible' 'edible' 'edible' 'edible'\n",
            " 'edible' 'edible' 'edible' 'edible' 'edible' 'edible' 'edible' 'edible'\n",
            " 'edible' 'edible' 'edible' 'edible' 'edible' 'poisonous' 'edible'\n",
            " 'edible' 'edible' 'poisonous' 'edible' 'edible' 'edible' 'edible'\n",
            " 'poisonous' 'edible' 'edible' 'edible' 'edible' 'poisonous' 'edible'\n",
            " 'edible' 'edible' 'edible' 'poisonous' 'edible' 'edible' 'edible'\n",
            " 'poisonous' 'edible' 'edible' 'edible' 'edible' 'edible' 'edible'\n",
            " 'edible' 'edible' 'edible' 'edible' 'poisonous' 'edible' 'edible'\n",
            " 'edible' 'edible' 'edible' 'edible' 'edible' 'edible' 'poisonous'\n",
            " 'edible' 'edible' 'edible' 'edible' 'edible' 'edible' 'poisonous'\n",
            " 'edible' 'edible' 'edible' 'edible' 'edible' 'edible' 'edible' 'edible'\n",
            " 'edible' 'edible' 'edible' 'poisonous' 'edible' 'edible' 'edible'\n",
            " 'edible' 'edible' 'edible' 'edible' 'edible' 'edible' 'edible' 'edible'\n",
            " 'edible' 'edible' 'edible' 'edible' 'edible' 'edible' 'edible'\n",
            " 'poisonous' 'poisonous' 'edible' 'edible' 'edible' 'edible' 'edible'\n",
            " 'edible' 'edible' 'edible' 'edible' 'edible' 'poisonous' 'edible'\n",
            " 'edible' 'edible' 'edible' 'edible' 'edible' 'edible' 'edible'\n",
            " 'poisonous' 'edible' 'edible' 'edible' 'edible' 'edible' 'edible'\n",
            " 'poisonous' 'edible' 'edible' 'poisonous' 'edible' 'edible' 'poisonous'\n",
            " 'edible' 'edible' 'edible' 'edible' 'edible' 'edible' 'edible' 'edible'\n",
            " 'edible' 'edible' 'edible' 'edible' 'edible' 'edible' 'edible' 'edible'\n",
            " 'edible' 'edible' 'edible' 'edible' 'edible' 'edible' 'edible'\n",
            " 'poisonous' 'poisonous' 'edible' 'edible' 'edible' 'edible' 'edible'\n",
            " 'edible' 'edible' 'edible' 'poisonous' 'edible' 'edible' 'edible'\n",
            " 'edible' 'edible' 'edible' 'poisonous' 'edible' 'edible' 'edible'\n",
            " 'poisonous' 'edible' 'poisonous' 'edible' 'edible' 'edible' 'poisonous'\n",
            " 'edible' 'edible' 'edible' 'edible' 'edible' 'edible' 'poisonous'\n",
            " 'edible' 'edible' 'edible' 'edible' 'poisonous' 'edible' 'poisonous'\n",
            " 'edible' 'edible' 'poisonous' 'edible' 'edible' 'edible' 'edible'\n",
            " 'edible' 'poisonous' 'edible' 'edible' 'edible' 'edible' 'edible'\n",
            " 'edible' 'edible' 'edible' 'edible' 'edible' 'edible' 'edible' 'edible'\n",
            " 'edible' 'edible' 'edible' 'edible' 'edible' 'edible' 'edible' 'edible'\n",
            " 'poisonous' 'edible' 'edible' 'edible' 'edible' 'edible' 'edible'\n",
            " 'edible' 'edible' 'edible' 'edible' 'edible' 'edible' 'edible' 'edible'\n",
            " 'edible' 'edible' 'edible' 'edible' 'edible' 'edible' 'edible' 'edible'\n",
            " 'edible' 'edible' 'edible' 'edible' 'edible' 'edible' 'poisonous'\n",
            " 'edible' 'edible' 'edible' 'poisonous' 'edible' 'edible' 'edible'\n",
            " 'edible' 'edible' 'edible' 'edible' 'edible' 'edible' 'edible' 'edible'\n",
            " 'edible' 'edible' 'edible' 'edible' 'poisonous' 'edible' 'edible'\n",
            " 'edible' 'edible' 'edible' 'edible' 'edible' 'edible' 'edible' 'edible'\n",
            " 'edible' 'edible' 'edible' 'edible' 'edible' 'edible' 'edible' 'edible'\n",
            " 'edible' 'edible' 'edible' 'edible' 'edible' 'edible' 'edible' 'edible'\n",
            " 'edible' 'edible' 'edible' 'edible' 'edible' 'edible' 'edible' 'edible'\n",
            " 'edible' 'edible' 'edible' 'edible' 'edible' 'edible' 'edible' 'edible'\n",
            " 'edible' 'edible' 'poisonous' 'edible' 'edible' 'edible' 'edible'\n",
            " 'edible' 'edible' 'edible' 'edible' 'edible' 'edible' 'edible'\n",
            " 'poisonous' 'edible' 'edible' 'edible' 'edible' 'edible' 'poisonous'\n",
            " 'edible' 'edible' 'edible' 'edible' 'edible' 'edible' 'edible' 'edible'\n",
            " 'edible' 'edible' 'edible' 'edible' 'edible' 'edible' 'edible' 'edible'\n",
            " 'edible' 'edible' 'edible' 'edible' 'edible' 'edible' 'edible' 'edible'\n",
            " 'edible' 'edible' 'edible' 'edible' 'edible' 'edible' 'edible' 'edible'\n",
            " 'edible' 'edible' 'edible' 'poisonous' 'edible' 'edible' 'edible'\n",
            " 'edible' 'edible' 'edible' 'edible' 'edible' 'edible' 'edible'\n",
            " 'poisonous' 'edible' 'edible' 'edible' 'edible' 'poisonous' 'edible'\n",
            " 'edible' 'edible' 'edible' 'edible' 'edible' 'edible' 'edible' 'edible'\n",
            " 'edible' 'poisonous' 'edible' 'edible' 'edible' 'edible' 'edible'\n",
            " 'edible' 'edible' 'edible' 'edible' 'edible' 'edible' 'edible' 'edible'\n",
            " 'edible' 'edible' 'edible' 'edible' 'edible' 'edible' 'edible' 'edible'\n",
            " 'edible' 'edible' 'edible' 'edible' 'edible' 'poisonous' 'edible'\n",
            " 'edible' 'poisonous' 'edible' 'edible' 'edible' 'edible' 'edible'\n",
            " 'edible' 'edible' 'poisonous' 'edible' 'edible' 'edible' 'edible'\n",
            " 'edible' 'edible' 'edible' 'edible' 'edible' 'edible' 'poisonous'\n",
            " 'edible' 'edible' 'edible' 'edible' 'edible' 'edible' 'edible' 'edible'\n",
            " 'poisonous' 'edible' 'edible' 'edible' 'edible' 'edible' 'edible'\n",
            " 'edible' 'edible' 'edible' 'edible' 'edible' 'edible' 'edible' 'edible'\n",
            " 'edible' 'poisonous' 'edible' 'edible' 'poisonous' 'edible' 'edible'\n",
            " 'edible' 'edible' 'edible' 'edible' 'edible' 'edible' 'edible' 'edible'\n",
            " 'edible' 'edible' 'edible' 'edible' 'edible' 'edible' 'edible'\n",
            " 'poisonous' 'edible' 'edible' 'edible' 'edible' 'edible' 'poisonous'\n",
            " 'edible' 'poisonous' 'edible' 'edible' 'poisonous']\n"
          ],
          "name": "stdout"
        }
      ]
    },
    {
      "cell_type": "code",
      "metadata": {
        "colab": {
          "base_uri": "https://localhost:8080/"
        },
        "id": "CjBpCzWvxbwX",
        "outputId": "11259552-a0a3-4541-cdca-c3b049580bbd"
      },
      "source": [
        "y_train.head()"
      ],
      "execution_count": null,
      "outputs": [
        {
          "output_type": "execute_result",
          "data": {
            "text/plain": [
              "1746    edible\n",
              "1967    edible\n",
              "2757    edible\n",
              "3120    edible\n",
              "2488    edible\n",
              "Name: class, dtype: object"
            ]
          },
          "metadata": {
            "tags": []
          },
          "execution_count": 13
        }
      ]
    },
    {
      "cell_type": "code",
      "metadata": {
        "colab": {
          "base_uri": "https://localhost:8080/"
        },
        "id": "YBpEqToPxvTX",
        "outputId": "7c661279-af50-4fe0-acb8-3d87b1e3adaa"
      },
      "source": [
        "y_test.shape"
      ],
      "execution_count": null,
      "outputs": [
        {
          "output_type": "execute_result",
          "data": {
            "text/plain": [
              "(625,)"
            ]
          },
          "metadata": {
            "tags": []
          },
          "execution_count": 14
        }
      ]
    },
    {
      "cell_type": "code",
      "metadata": {
        "colab": {
          "base_uri": "https://localhost:8080/",
          "height": 220
        },
        "id": "KD8fEVjiyH7F",
        "outputId": "6fbaede0-133a-45fd-bb6b-d73c474a37af"
      },
      "source": [
        "x_train.head()"
      ],
      "execution_count": null,
      "outputs": [
        {
          "output_type": "execute_result",
          "data": {
            "text/html": [
              "<div>\n",
              "<style scoped>\n",
              "    .dataframe tbody tr th:only-of-type {\n",
              "        vertical-align: middle;\n",
              "    }\n",
              "\n",
              "    .dataframe tbody tr th {\n",
              "        vertical-align: top;\n",
              "    }\n",
              "\n",
              "    .dataframe thead th {\n",
              "        text-align: right;\n",
              "    }\n",
              "</style>\n",
              "<table border=\"1\" class=\"dataframe\">\n",
              "  <thead>\n",
              "    <tr style=\"text-align: right;\">\n",
              "      <th></th>\n",
              "      <th>cap-shape</th>\n",
              "      <th>cap-surface</th>\n",
              "      <th>odor</th>\n",
              "      <th>stalk-surface-above-ring</th>\n",
              "      <th>stalk-surface-below-ring</th>\n",
              "      <th>stalk-color-above-ring</th>\n",
              "      <th>stalk-color-below-ring</th>\n",
              "      <th>veil-type</th>\n",
              "      <th>veil-color</th>\n",
              "      <th>ring-number</th>\n",
              "      <th>spore-print-color</th>\n",
              "      <th>habitat</th>\n",
              "      <th>bruises-enc</th>\n",
              "    </tr>\n",
              "  </thead>\n",
              "  <tbody>\n",
              "    <tr>\n",
              "      <th>1746</th>\n",
              "      <td>5.0</td>\n",
              "      <td>0</td>\n",
              "      <td>5</td>\n",
              "      <td>2</td>\n",
              "      <td>2</td>\n",
              "      <td>7</td>\n",
              "      <td>7</td>\n",
              "      <td>0</td>\n",
              "      <td>2</td>\n",
              "      <td>1</td>\n",
              "      <td>3</td>\n",
              "      <td>1</td>\n",
              "      <td>1</td>\n",
              "    </tr>\n",
              "    <tr>\n",
              "      <th>1967</th>\n",
              "      <td>2.0</td>\n",
              "      <td>2</td>\n",
              "      <td>5</td>\n",
              "      <td>0</td>\n",
              "      <td>0</td>\n",
              "      <td>7</td>\n",
              "      <td>7</td>\n",
              "      <td>0</td>\n",
              "      <td>2</td>\n",
              "      <td>1</td>\n",
              "      <td>2</td>\n",
              "      <td>1</td>\n",
              "      <td>1</td>\n",
              "    </tr>\n",
              "    <tr>\n",
              "      <th>2757</th>\n",
              "      <td>5.0</td>\n",
              "      <td>3</td>\n",
              "      <td>5</td>\n",
              "      <td>2</td>\n",
              "      <td>2</td>\n",
              "      <td>7</td>\n",
              "      <td>6</td>\n",
              "      <td>0</td>\n",
              "      <td>2</td>\n",
              "      <td>1</td>\n",
              "      <td>3</td>\n",
              "      <td>0</td>\n",
              "      <td>0</td>\n",
              "    </tr>\n",
              "    <tr>\n",
              "      <th>3120</th>\n",
              "      <td>2.0</td>\n",
              "      <td>0</td>\n",
              "      <td>5</td>\n",
              "      <td>2</td>\n",
              "      <td>2</td>\n",
              "      <td>6</td>\n",
              "      <td>3</td>\n",
              "      <td>0</td>\n",
              "      <td>2</td>\n",
              "      <td>1</td>\n",
              "      <td>2</td>\n",
              "      <td>0</td>\n",
              "      <td>0</td>\n",
              "    </tr>\n",
              "    <tr>\n",
              "      <th>2488</th>\n",
              "      <td>2.0</td>\n",
              "      <td>0</td>\n",
              "      <td>5</td>\n",
              "      <td>2</td>\n",
              "      <td>2</td>\n",
              "      <td>3</td>\n",
              "      <td>6</td>\n",
              "      <td>0</td>\n",
              "      <td>2</td>\n",
              "      <td>1</td>\n",
              "      <td>3</td>\n",
              "      <td>0</td>\n",
              "      <td>0</td>\n",
              "    </tr>\n",
              "  </tbody>\n",
              "</table>\n",
              "</div>"
            ],
            "text/plain": [
              "      cap-shape  cap-surface  odor  ...  spore-print-color  habitat  bruises-enc\n",
              "1746        5.0            0     5  ...                  3        1            1\n",
              "1967        2.0            2     5  ...                  2        1            1\n",
              "2757        5.0            3     5  ...                  3        0            0\n",
              "3120        2.0            0     5  ...                  2        0            0\n",
              "2488        2.0            0     5  ...                  3        0            0\n",
              "\n",
              "[5 rows x 13 columns]"
            ]
          },
          "metadata": {
            "tags": []
          },
          "execution_count": 15
        }
      ]
    },
    {
      "cell_type": "code",
      "metadata": {
        "id": "1uYrWC_EXU9k",
        "outputId": "8b5ec478-b905-44e2-a604-91869785a190",
        "colab": {
          "base_uri": "https://localhost:8080/"
        }
      },
      "source": [
        "x_test.shape"
      ],
      "execution_count": null,
      "outputs": [
        {
          "output_type": "execute_result",
          "data": {
            "text/plain": [
              "(625, 13)"
            ]
          },
          "metadata": {
            "tags": []
          },
          "execution_count": 16
        }
      ]
    }
  ]
}